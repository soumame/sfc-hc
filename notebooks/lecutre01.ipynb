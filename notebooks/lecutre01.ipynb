{
 "cells": [
  {
   "cell_type": "markdown",
   "id": "cd4c19b0",
   "metadata": {},
   "source": [
    "環境構築回\n",
    "Google Driveのファイル周りが面倒くさいので、授業のリポジトリをForkして使う\n",
    "\n",
    "ただ、パッケージを手動でインストール必要があるか。"
   ]
  },
  {
   "cell_type": "code",
   "execution_count": 1,
   "id": "9cdcd3c1",
   "metadata": {},
   "outputs": [
    {
     "name": "stdout",
     "output_type": "stream",
     "text": [
      "ハローわぁるど\n"
     ]
    }
   ],
   "source": [
    "print(\"ハローわぁるど\")"
   ]
  },
  {
   "cell_type": "code",
   "execution_count": 2,
   "id": "b7f72a16",
   "metadata": {},
   "outputs": [
    {
     "data": {
      "text/plain": [
       "2"
      ]
     },
     "execution_count": 2,
     "metadata": {},
     "output_type": "execute_result"
    }
   ],
   "source": [
    "1+1\n"
   ]
  }
 ],
 "metadata": {
  "kernelspec": {
   "display_name": ".venv",
   "language": "python",
   "name": "python3"
  },
  "language_info": {
   "codemirror_mode": {
    "name": "ipython",
    "version": 3
   },
   "file_extension": ".py",
   "mimetype": "text/x-python",
   "name": "python",
   "nbconvert_exporter": "python",
   "pygments_lexer": "ipython3",
   "version": "3.13.7"
  }
 },
 "nbformat": 4,
 "nbformat_minor": 5
}
